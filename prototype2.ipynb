{
 "cells": [
  {
   "cell_type": "code",
   "execution_count": 59,
   "metadata": {},
   "outputs": [],
   "source": [
    "import numpy as np\n",
    "import matplotlib.pyplot as plt\n",
    "import matplotlib.image as mpimg \n",
    "from PIL import Image, ImageDraw, ImageFilter, ImageFont\n",
    "import random\n",
    "from random import randint\n",
    "import pandas as pd"
   ]
  },
  {
   "cell_type": "markdown",
   "metadata": {},
   "source": [
    "# Steps to take perfect snapshots \n",
    "\n",
    "1. Download ShareX app\n",
    "2. Click capture and then region \n",
    "3. Using the three dots as a guide, align the bottom cross hair with the mid point of the far left circle\n",
    "4. Take a region capture with the dimensions 605x55"
   ]
  },
  {
   "cell_type": "markdown",
   "metadata": {},
   "source": [
    "## Images"
   ]
  },
  {
   "cell_type": "code",
   "execution_count": 40,
   "metadata": {},
   "outputs": [],
   "source": [
    "#Logos\n",
    "alarabiya = Image.open('images/logos/alarabiya_logo.png') \n",
    "alhurra = Image.open('images/logos/alhurra_logo.png')  \n",
    "aljazeera = Image.open('images/logos/aljazeera_logo.png') \n",
    "bbc = Image.open('images/logos/bbc_logo.png')  \n",
    "lbc = Image.open('images/logos/lbc_logo.png')\n",
    "mbc = Image.open('images/logos/mbc_logo.png')\n",
    "medi1 = Image.open('images/logos/medi1_logo.png')\n",
    "rt = Image.open('images/logos/rt_logo.png')\n",
    "sky = Image.open('images/logos/sky_logo.png')\n",
    "youm7 = Image.open('images/logos/youm7_logo.png')\n",
    "\n",
    "#article images\n",
    "pic1 = Image.open('images/article_photo/pic1.png')\n",
    "pic2 = Image.open('images/article_photo/pic2.png')\n",
    "pic3 = Image.open('images/article_photo/pic3.jpg')\n",
    "pic4 = Image.open('images/article_photo/pic4.jpg')\n",
    "\n",
    "#Stationary Elements\n",
    "background = Image.open('images/stationary_pieces/background.png')\n",
    "buttons = Image.open('images/stationary_pieces/buttons.png')\n"
   ]
  },
  {
   "cell_type": "markdown",
   "metadata": {},
   "source": [
    "# Create lists of elements "
   ]
  },
  {
   "cell_type": "code",
   "execution_count": 41,
   "metadata": {},
   "outputs": [
    {
     "data": {
      "text/plain": [
       "[<PIL.PngImagePlugin.PngImageFile image mode=RGBA size=4000x2250 at 0x1AA4EE7D748>,\n",
       " <PIL.PngImagePlugin.PngImageFile image mode=RGBA size=4000x2250 at 0x1AA4EE7D908>,\n",
       " <PIL.JpegImagePlugin.JpegImageFile image mode=RGB size=750x500 at 0x1AA4EE7D9C8>,\n",
       " <PIL.JpegImagePlugin.JpegImageFile image mode=RGB size=675x380 at 0x1AA4EE7D888>]"
      ]
     },
     "execution_count": 41,
     "metadata": {},
     "output_type": "execute_result"
    }
   ],
   "source": [
    "logos = []\n",
    "logos.append(alarabiya)\n",
    "logos.append(alhurra)\n",
    "logos.append(aljazeera)\n",
    "logos.append(lbc)\n",
    "logos.append(bbc)\n",
    "logos.append(mbc)\n",
    "logos.append(medi1)\n",
    "logos.append(rt)\n",
    "logos.append(sky)\n",
    "logos.append(youm7)\n",
    "\n",
    "article_images = []\n",
    "article_images.append(pic1)\n",
    "article_images.append(pic2)\n",
    "article_images.append(pic3)\n",
    "article_images.append(pic4)\n",
    "article_images"
   ]
  },
  {
   "cell_type": "markdown",
   "metadata": {},
   "source": [
    "# Randomization and pasting together "
   ]
  },
  {
   "cell_type": "code",
   "execution_count": 60,
   "metadata": {},
   "outputs": [
    {
     "ename": "OSError",
     "evalue": "cannot open resource",
     "output_type": "error",
     "traceback": [
      "\u001b[1;31m---------------------------------------------------------------------------\u001b[0m",
      "\u001b[1;31mOSError\u001b[0m                                   Traceback (most recent call last)",
      "\u001b[1;32m<ipython-input-60-989ebaa1dcdd>\u001b[0m in \u001b[0;36m<module>\u001b[1;34m\u001b[0m\n\u001b[0;32m     47\u001b[0m \u001b[1;31m#Add text\u001b[0m\u001b[1;33m\u001b[0m\u001b[1;33m\u001b[0m\u001b[1;33m\u001b[0m\u001b[0m\n\u001b[0;32m     48\u001b[0m \u001b[0mdraw\u001b[0m \u001b[1;33m=\u001b[0m \u001b[0mImageDraw\u001b[0m\u001b[1;33m.\u001b[0m\u001b[0mDraw\u001b[0m\u001b[1;33m(\u001b[0m\u001b[0mimage\u001b[0m\u001b[1;33m)\u001b[0m\u001b[1;33m\u001b[0m\u001b[1;33m\u001b[0m\u001b[0m\n\u001b[1;32m---> 49\u001b[1;33m \u001b[0mfont\u001b[0m \u001b[1;33m=\u001b[0m \u001b[0mImageFont\u001b[0m\u001b[1;33m.\u001b[0m\u001b[0mtruetype\u001b[0m\u001b[1;33m(\u001b[0m\u001b[1;34m'Pillow/Tests/fonts/FreeMono.ttf'\u001b[0m\u001b[1;33m,\u001b[0m \u001b[1;36m20\u001b[0m\u001b[1;33m)\u001b[0m\u001b[1;33m\u001b[0m\u001b[1;33m\u001b[0m\u001b[0m\n\u001b[0m\u001b[0;32m     50\u001b[0m \u001b[0mdraw\u001b[0m\u001b[1;33m.\u001b[0m\u001b[0mtext\u001b[0m\u001b[1;33m(\u001b[0m\u001b[1;33m(\u001b[0m\u001b[1;36m0\u001b[0m\u001b[1;33m,\u001b[0m \u001b[1;36m0\u001b[0m\u001b[1;33m)\u001b[0m\u001b[1;33m,\u001b[0m \u001b[1;34m'WAP'\u001b[0m\u001b[1;33m,\u001b[0m \u001b[1;33m(\u001b[0m\u001b[1;36m255\u001b[0m\u001b[1;33m,\u001b[0m \u001b[1;36m255\u001b[0m\u001b[1;33m,\u001b[0m \u001b[1;36m255\u001b[0m\u001b[1;33m)\u001b[0m\u001b[1;33m,\u001b[0m \u001b[0mfont\u001b[0m\u001b[1;33m=\u001b[0m\u001b[0mfont\u001b[0m\u001b[1;33m)\u001b[0m\u001b[1;33m\u001b[0m\u001b[1;33m\u001b[0m\u001b[0m\n\u001b[0;32m     51\u001b[0m \u001b[1;33m\u001b[0m\u001b[0m\n",
      "\u001b[1;32m~\\Anaconda3\\lib\\site-packages\\PIL\\ImageFont.py\u001b[0m in \u001b[0;36mtruetype\u001b[1;34m(font, size, index, encoding, layout_engine)\u001b[0m\n\u001b[0;32m    640\u001b[0m \u001b[1;33m\u001b[0m\u001b[0m\n\u001b[0;32m    641\u001b[0m     \u001b[1;32mtry\u001b[0m\u001b[1;33m:\u001b[0m\u001b[1;33m\u001b[0m\u001b[1;33m\u001b[0m\u001b[0m\n\u001b[1;32m--> 642\u001b[1;33m         \u001b[1;32mreturn\u001b[0m \u001b[0mfreetype\u001b[0m\u001b[1;33m(\u001b[0m\u001b[0mfont\u001b[0m\u001b[1;33m)\u001b[0m\u001b[1;33m\u001b[0m\u001b[1;33m\u001b[0m\u001b[0m\n\u001b[0m\u001b[0;32m    643\u001b[0m     \u001b[1;32mexcept\u001b[0m \u001b[0mOSError\u001b[0m\u001b[1;33m:\u001b[0m\u001b[1;33m\u001b[0m\u001b[1;33m\u001b[0m\u001b[0m\n\u001b[0;32m    644\u001b[0m         \u001b[1;32mif\u001b[0m \u001b[1;32mnot\u001b[0m \u001b[0misPath\u001b[0m\u001b[1;33m(\u001b[0m\u001b[0mfont\u001b[0m\u001b[1;33m)\u001b[0m\u001b[1;33m:\u001b[0m\u001b[1;33m\u001b[0m\u001b[1;33m\u001b[0m\u001b[0m\n",
      "\u001b[1;32m~\\Anaconda3\\lib\\site-packages\\PIL\\ImageFont.py\u001b[0m in \u001b[0;36mfreetype\u001b[1;34m(font)\u001b[0m\n\u001b[0;32m    637\u001b[0m \u001b[1;33m\u001b[0m\u001b[0m\n\u001b[0;32m    638\u001b[0m     \u001b[1;32mdef\u001b[0m \u001b[0mfreetype\u001b[0m\u001b[1;33m(\u001b[0m\u001b[0mfont\u001b[0m\u001b[1;33m)\u001b[0m\u001b[1;33m:\u001b[0m\u001b[1;33m\u001b[0m\u001b[1;33m\u001b[0m\u001b[0m\n\u001b[1;32m--> 639\u001b[1;33m         \u001b[1;32mreturn\u001b[0m \u001b[0mFreeTypeFont\u001b[0m\u001b[1;33m(\u001b[0m\u001b[0mfont\u001b[0m\u001b[1;33m,\u001b[0m \u001b[0msize\u001b[0m\u001b[1;33m,\u001b[0m \u001b[0mindex\u001b[0m\u001b[1;33m,\u001b[0m \u001b[0mencoding\u001b[0m\u001b[1;33m,\u001b[0m \u001b[0mlayout_engine\u001b[0m\u001b[1;33m)\u001b[0m\u001b[1;33m\u001b[0m\u001b[1;33m\u001b[0m\u001b[0m\n\u001b[0m\u001b[0;32m    640\u001b[0m \u001b[1;33m\u001b[0m\u001b[0m\n\u001b[0;32m    641\u001b[0m     \u001b[1;32mtry\u001b[0m\u001b[1;33m:\u001b[0m\u001b[1;33m\u001b[0m\u001b[1;33m\u001b[0m\u001b[0m\n",
      "\u001b[1;32m~\\Anaconda3\\lib\\site-packages\\PIL\\ImageFont.py\u001b[0m in \u001b[0;36m__init__\u001b[1;34m(self, font, size, index, encoding, layout_engine)\u001b[0m\n\u001b[0;32m    186\u001b[0m                     \u001b[1;32mreturn\u001b[0m\u001b[1;33m\u001b[0m\u001b[1;33m\u001b[0m\u001b[0m\n\u001b[0;32m    187\u001b[0m             self.font = core.getfont(\n\u001b[1;32m--> 188\u001b[1;33m                 \u001b[0mfont\u001b[0m\u001b[1;33m,\u001b[0m \u001b[0msize\u001b[0m\u001b[1;33m,\u001b[0m \u001b[0mindex\u001b[0m\u001b[1;33m,\u001b[0m \u001b[0mencoding\u001b[0m\u001b[1;33m,\u001b[0m \u001b[0mlayout_engine\u001b[0m\u001b[1;33m=\u001b[0m\u001b[0mlayout_engine\u001b[0m\u001b[1;33m\u001b[0m\u001b[1;33m\u001b[0m\u001b[0m\n\u001b[0m\u001b[0;32m    189\u001b[0m             )\n\u001b[0;32m    190\u001b[0m         \u001b[1;32melse\u001b[0m\u001b[1;33m:\u001b[0m\u001b[1;33m\u001b[0m\u001b[1;33m\u001b[0m\u001b[0m\n",
      "\u001b[1;31mOSError\u001b[0m: cannot open resource"
     ]
    }
   ],
   "source": [
    "# Create random number to select the element from the list and a random 6 digit number for the survey ids \n",
    "logo_random = random.randint(0,8)\n",
    "article_image_random = random.randint(0,3)\n",
    "sid = randint(100000, 999999)\n",
    "\n",
    "#Create a string based on the element that was selected that will be included in the data frame\n",
    "logo_name = ('Al Arabiya' if (logo_random == 0) else\n",
    "                'Al Hurra' if (logo_random == 1) else\n",
    "                'Al Jazeera' if (logo_random == 2) else\n",
    "                'LBC' if (logo_random == 3) else\n",
    "                'BBC' if (logo_random == 4) else\n",
    "                'MBC' if (logo_random == 5) else\n",
    "                'Medi1' if (logo_random == 6) else\n",
    "                'RT' if (logo_random == 7) else\n",
    "                'Sky' if (logo_random == 8) else\n",
    "                'Youm7'\n",
    " )\n",
    "\n",
    "#Create a string based on the element that was selected that will be included in the data frame\n",
    "article_image_name = ('pic1' if (logo_random == 0) else\n",
    "                        'pic2' if (logo_random == 1) else\n",
    "                        'pic3' if (logo_random == 2) else\n",
    "                        'pic4'\n",
    " )\n",
    "\n",
    "#Create a data frame to save the results\n",
    "elements_data = {'Survey_ID': [sid],\n",
    "                 'Logo': [logo_name],\n",
    "                 'Article_Image': [article_image_name]\n",
    "                }\n",
    "\n",
    "elements_data = pd.DataFrame(elements_data, columns = ['Survey_ID', 'Logo', 'Article_Image'])\n",
    "\n",
    "#Creating a copy of blank background so it is not altered\n",
    "image = background.copy()\n",
    "\n",
    "#Pasting together elements by coordinate\n",
    "logo = logos[logo_random]\n",
    "#logo = logo.resize((585,75), Image.ANTIALIAS)\n",
    "image.paste(logo, (15, 10))\n",
    "\n",
    "#article images 625x325\n",
    "article_image = article_images[article_image_random]\n",
    "article_image = article_image.resize((625,325), Image.ANTIALIAS)\n",
    "image.paste(article_image, (4, 120))\n",
    "\n",
    "#Add text\n",
    "draw = ImageDraw.Draw(image)\n",
    "font = ImageFont.truetype('Pillow/Tests/fonts/FreeMono.ttf', 20)\n",
    "draw.text((0, 0), 'WAP', (255, 255, 255), font=font)\n",
    "\n",
    "\n",
    "#Savings Images and Elements CSV\n",
    "image.save('images/mock_photos/mock.png')\n",
    "elements_data.to_csv('elements_data.csv', index=False)\n",
    "\n",
    "image"
   ]
  },
  {
   "cell_type": "code",
   "execution_count": 52,
   "metadata": {},
   "outputs": [
    {
     "data": {
      "text/html": [
       "<div>\n",
       "<style scoped>\n",
       "    .dataframe tbody tr th:only-of-type {\n",
       "        vertical-align: middle;\n",
       "    }\n",
       "\n",
       "    .dataframe tbody tr th {\n",
       "        vertical-align: top;\n",
       "    }\n",
       "\n",
       "    .dataframe thead th {\n",
       "        text-align: right;\n",
       "    }\n",
       "</style>\n",
       "<table border=\"1\" class=\"dataframe\">\n",
       "  <thead>\n",
       "    <tr style=\"text-align: right;\">\n",
       "      <th></th>\n",
       "      <th>Survey_ID</th>\n",
       "      <th>Logo</th>\n",
       "      <th>Article_Image</th>\n",
       "    </tr>\n",
       "  </thead>\n",
       "  <tbody>\n",
       "    <tr>\n",
       "      <th>0</th>\n",
       "      <td>936155</td>\n",
       "      <td>Al Jazeera</td>\n",
       "      <td>pic3</td>\n",
       "    </tr>\n",
       "  </tbody>\n",
       "</table>\n",
       "</div>"
      ],
      "text/plain": [
       "   Survey_ID        Logo Article_Image\n",
       "0     936155  Al Jazeera          pic3"
      ]
     },
     "execution_count": 52,
     "metadata": {},
     "output_type": "execute_result"
    }
   ],
   "source": [
    "elements_data"
   ]
  },
  {
   "cell_type": "markdown",
   "metadata": {},
   "source": [
    "# Creating the executable\n",
    "\n",
    "* https://datatofish.com/executable-pyinstaller/\n",
    "* pyinstaller --onefile -w mock.py\n",
    "* trying --onedir for faster unpacking "
   ]
  },
  {
   "cell_type": "code",
   "execution_count": null,
   "metadata": {},
   "outputs": [],
   "source": []
  },
  {
   "cell_type": "code",
   "execution_count": null,
   "metadata": {},
   "outputs": [],
   "source": []
  }
 ],
 "metadata": {
  "kernelspec": {
   "display_name": "Python 3",
   "language": "python",
   "name": "python3"
  },
  "language_info": {
   "codemirror_mode": {
    "name": "ipython",
    "version": 3
   },
   "file_extension": ".py",
   "mimetype": "text/x-python",
   "name": "python",
   "nbconvert_exporter": "python",
   "pygments_lexer": "ipython3",
   "version": "3.7.4"
  }
 },
 "nbformat": 4,
 "nbformat_minor": 4
}
