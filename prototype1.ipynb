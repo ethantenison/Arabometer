{
 "cells": [
  {
   "cell_type": "code",
   "execution_count": 1,
   "metadata": {},
   "outputs": [],
   "source": [
    "import numpy as np\n",
    "import matplotlib.pyplot as plt\n",
    "import matplotlib.image as mpimg \n",
    "from PIL import Image, ImageDraw, ImageFilter\n",
    "import random\n",
    "from random import randint\n",
    "import pandas as pd"
   ]
  },
  {
   "cell_type": "markdown",
   "metadata": {},
   "source": [
    "## Images"
   ]
  },
  {
   "cell_type": "code",
   "execution_count": 2,
   "metadata": {},
   "outputs": [],
   "source": [
    "alarabiya = Image.open('images/alarabiya.png') \n",
    "lbc = Image.open('images/lbc.png') \n",
    "tele = Image.open('images/tele_liban.png')\n",
    "future = Image.open('images/future_tv.png') \n",
    "aljadeed = Image.open('images/aljadeed.png') \n",
    "cover_ala = Image.open('images/coverphoto_alarabiya.png') #This is just used as an example. \n",
    "blank = Image.open('images/blank.png')"
   ]
  },
  {
   "cell_type": "markdown",
   "metadata": {},
   "source": [
    "# Create a list of elements "
   ]
  },
  {
   "cell_type": "code",
   "execution_count": 3,
   "metadata": {},
   "outputs": [
    {
     "data": {
      "text/plain": [
       "[<PIL.PngImagePlugin.PngImageFile image mode=RGBA size=196x280 at 0x1E883C85FA0>,\n",
       " <PIL.PngImagePlugin.PngImageFile image mode=RGBA size=194x253 at 0x1E8868D4DF0>,\n",
       " <PIL.PngImagePlugin.PngImageFile image mode=RGBA size=195x308 at 0x1E8868D4D60>,\n",
       " <PIL.PngImagePlugin.PngImageFile image mode=RGBA size=196x281 at 0x1E883C78CD0>,\n",
       " <PIL.PngImagePlugin.PngImageFile image mode=RGBA size=196x282 at 0x1E8868D4640>]"
      ]
     },
     "execution_count": 3,
     "metadata": {},
     "output_type": "execute_result"
    }
   ],
   "source": [
    "list = []\n",
    "list.append(alarabiya)\n",
    "list.append(aljadeed)\n",
    "list.append(future)\n",
    "list.append(lbc)\n",
    "list.append(tele)\n",
    "\n",
    "list"
   ]
  },
  {
   "cell_type": "markdown",
   "metadata": {},
   "source": [
    "# Randomization and pasting together "
   ]
  },
  {
   "cell_type": "code",
   "execution_count": 4,
   "metadata": {},
   "outputs": [],
   "source": [
    "# Create random number to select the element from the list and a random 6 digit number for the survey ids \n",
    "logo_random = random.randint(0,4)\n",
    "sid = randint(100000, 999999)\n",
    "\n",
    "#Create a string based on the element that was selected that will be included in the data frame\n",
    "logo_name = ('Al Arabiya' if (logo_random == 0) else\n",
    "              'Al Jadeed' if (logo_random == 1) else\n",
    "              'Future' if (logo_random == 2) else\n",
    "              'LBC' if (logo_random == 3) else\n",
    "              'Tele Liban'\n",
    " )\n",
    "\n",
    "#Create a data frame to save the results\n",
    "elements_data = {'Survey_ID': [sid],\n",
    "                 'Logo': [logo_name]\n",
    "                }\n",
    "\n",
    "elements_data = pd.DataFrame(elements_data, columns = ['Survey_ID', 'Logo'])\n",
    "\n",
    "#Creating a copy of blank background so it is not altered\n",
    "back_im = blank.copy()\n",
    "\n",
    "#Pasting together elements by coordinates\n",
    "back_im.paste(list[logo_random], (1000, 50))\n",
    "back_im.paste(cover_ala, (100, 50))\n",
    "\n",
    "#Savings Images and Elements CSV\n",
    "back_im.save('mock.png')\n",
    "elements_data.to_csv('elements_data.csv')"
   ]
  },
  {
   "cell_type": "markdown",
   "metadata": {},
   "source": [
    "# Creating the executable\n",
    "\n",
    "* https://datatofish.com/executable-pyinstaller/\n",
    "* pyinstaller --onefile -w mock.py\n",
    "* trying --onedir for faster unpacking "
   ]
  },
  {
   "cell_type": "code",
   "execution_count": null,
   "metadata": {},
   "outputs": [],
   "source": []
  }
 ],
 "metadata": {
  "kernelspec": {
   "display_name": "Python 3",
   "language": "python",
   "name": "python3"
  },
  "language_info": {
   "codemirror_mode": {
    "name": "ipython",
    "version": 3
   },
   "file_extension": ".py",
   "mimetype": "text/x-python",
   "name": "python",
   "nbconvert_exporter": "python",
   "pygments_lexer": "ipython3",
   "version": "3.7.4"
  }
 },
 "nbformat": 4,
 "nbformat_minor": 4
}
